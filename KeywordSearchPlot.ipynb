{
 "cells": [
  {
   "cell_type": "code",
   "execution_count": 1,
   "metadata": {},
   "outputs": [],
   "source": [
    "## import statements ##\n",
    "\n",
    "import pandas as pd\n",
    "import seaborn as sns\n",
    "import matplotlib.pyplot as plt\n",
    "%matplotlib inline\n",
    "import warnings\n",
    "warnings.filterwarnings(\"ignore\")"
   ]
  },
  {
   "cell_type": "code",
   "execution_count": 2,
   "metadata": {},
   "outputs": [],
   "source": [
    "train_data = pd.read_csv('polarity.csv')"
   ]
  },
  {
   "cell_type": "markdown",
   "metadata": {},
   "source": [
    "# Cleaning the data"
   ]
  },
  {
   "cell_type": "code",
   "execution_count": 3,
   "metadata": {},
   "outputs": [],
   "source": [
    "def drop_features(features,data):\n",
    "    data.drop(features,inplace=True,axis=1)"
   ]
  },
  {
   "cell_type": "code",
   "execution_count": 4,
   "metadata": {},
   "outputs": [],
   "source": [
    "import re\n",
    "def process_tweet(tweet):\n",
    "    tweet=str(tweet)\n",
    "    return \" \".join(re.sub(\"(@[A-Za-z0-9]+)|([^0-9A-Za-z \\t])\", \" \",tweet.lower()).split())"
   ]
  },
  {
   "cell_type": "code",
   "execution_count": 5,
   "metadata": {},
   "outputs": [],
   "source": [
    "def sentiment(label):\n",
    "    if label<0:\n",
    "        return -1\n",
    "    elif label==0:\n",
    "        return 0\n",
    "    else:\n",
    "        return 1"
   ]
  },
  {
   "cell_type": "code",
   "execution_count": 6,
   "metadata": {},
   "outputs": [],
   "source": [
    "def sentiment_word(sentiment):\n",
    "    if sentiment==-1:\n",
    "        return \"Negative\"\n",
    "    elif sentiment==1:\n",
    "        return \"Positive\"\n",
    "    else:\n",
    "        return \"Neutral\""
   ]
  },
  {
   "cell_type": "code",
   "execution_count": 7,
   "metadata": {},
   "outputs": [],
   "source": [
    "train_data['processed_tweets'] = train_data['tweet'].apply(process_tweet)"
   ]
  },
  {
   "cell_type": "code",
   "execution_count": 8,
   "metadata": {},
   "outputs": [],
   "source": [
    "train_data['sentiment'] = train_data['label'].apply(sentiment)"
   ]
  },
  {
   "cell_type": "code",
   "execution_count": 9,
   "metadata": {},
   "outputs": [],
   "source": [
    "train_data['tweet_sentiment'] = train_data['sentiment'].apply(sentiment_word)"
   ]
  },
  {
   "cell_type": "code",
   "execution_count": 10,
   "metadata": {},
   "outputs": [
    {
     "data": {
      "text/html": [
       "<div>\n",
       "<style scoped>\n",
       "    .dataframe tbody tr th:only-of-type {\n",
       "        vertical-align: middle;\n",
       "    }\n",
       "\n",
       "    .dataframe tbody tr th {\n",
       "        vertical-align: top;\n",
       "    }\n",
       "\n",
       "    .dataframe thead th {\n",
       "        text-align: right;\n",
       "    }\n",
       "</style>\n",
       "<table border=\"1\" class=\"dataframe\">\n",
       "  <thead>\n",
       "    <tr style=\"text-align: right;\">\n",
       "      <th></th>\n",
       "      <th>label</th>\n",
       "      <th>tweet</th>\n",
       "      <th>processed_tweets</th>\n",
       "      <th>sentiment</th>\n",
       "      <th>tweet_sentiment</th>\n",
       "    </tr>\n",
       "  </thead>\n",
       "  <tbody>\n",
       "    <tr>\n",
       "      <th>0</th>\n",
       "      <td>0.078788</td>\n",
       "      <td>RT @CovidvaxDEL: North delhi has at least 2790...</td>\n",
       "      <td>rt north delhi has at least 2790 new slots ava...</td>\n",
       "      <td>1</td>\n",
       "      <td>Positive</td>\n",
       "    </tr>\n",
       "    <tr>\n",
       "      <th>1</th>\n",
       "      <td>0.078788</td>\n",
       "      <td>North delhi has at least 2790 new slots availa...</td>\n",
       "      <td>north delhi has at least 2790 new slots availa...</td>\n",
       "      <td>1</td>\n",
       "      <td>Positive</td>\n",
       "    </tr>\n",
       "    <tr>\n",
       "      <th>2</th>\n",
       "      <td>0.078788</td>\n",
       "      <td>East Delhi has at least 5461 new slots availab...</td>\n",
       "      <td>east delhi has at least 5461 new slots availab...</td>\n",
       "      <td>1</td>\n",
       "      <td>Positive</td>\n",
       "    </tr>\n",
       "    <tr>\n",
       "      <th>3</th>\n",
       "      <td>0.078788</td>\n",
       "      <td>North delhi has at least 2145 new slots availa...</td>\n",
       "      <td>north delhi has at least 2145 new slots availa...</td>\n",
       "      <td>1</td>\n",
       "      <td>Positive</td>\n",
       "    </tr>\n",
       "    <tr>\n",
       "      <th>4</th>\n",
       "      <td>0.400000</td>\n",
       "      <td>18-44 #BBMP #Bengaluru #CovidVaccine Availabil...</td>\n",
       "      <td>18 44 bbmp bengaluru covidvaccine availability...</td>\n",
       "      <td>1</td>\n",
       "      <td>Positive</td>\n",
       "    </tr>\n",
       "    <tr>\n",
       "      <th>5</th>\n",
       "      <td>0.200000</td>\n",
       "      <td>18-44 #URBAN #Bengaluru #CovidVaccine Availabi...</td>\n",
       "      <td>18 44 urban bengaluru covidvaccine availabilit...</td>\n",
       "      <td>1</td>\n",
       "      <td>Positive</td>\n",
       "    </tr>\n",
       "    <tr>\n",
       "      <th>6</th>\n",
       "      <td>0.200000</td>\n",
       "      <td>18-44 #RURAL #Bengaluru #CovidVaccine Availabi...</td>\n",
       "      <td>18 44 rural bengaluru covidvaccine availabilit...</td>\n",
       "      <td>1</td>\n",
       "      <td>Positive</td>\n",
       "    </tr>\n",
       "    <tr>\n",
       "      <th>7</th>\n",
       "      <td>0.078788</td>\n",
       "      <td>NE delhi has at least 9 new slots available be...</td>\n",
       "      <td>ne delhi has at least 9 new slots available be...</td>\n",
       "      <td>1</td>\n",
       "      <td>Positive</td>\n",
       "    </tr>\n",
       "    <tr>\n",
       "      <th>8</th>\n",
       "      <td>0.078788</td>\n",
       "      <td>North delhi has at least 1368 new slots availa...</td>\n",
       "      <td>north delhi has at least 1368 new slots availa...</td>\n",
       "      <td>1</td>\n",
       "      <td>Positive</td>\n",
       "    </tr>\n",
       "    <tr>\n",
       "      <th>9</th>\n",
       "      <td>0.062500</td>\n",
       "      <td>RT @adarpoonawalla: An emotional moment for th...</td>\n",
       "      <td>rt an emotional moment for the team at as the ...</td>\n",
       "      <td>1</td>\n",
       "      <td>Positive</td>\n",
       "    </tr>\n",
       "  </tbody>\n",
       "</table>\n",
       "</div>"
      ],
      "text/plain": [
       "      label                                              tweet  \\\n",
       "0  0.078788  RT @CovidvaxDEL: North delhi has at least 2790...   \n",
       "1  0.078788  North delhi has at least 2790 new slots availa...   \n",
       "2  0.078788  East Delhi has at least 5461 new slots availab...   \n",
       "3  0.078788  North delhi has at least 2145 new slots availa...   \n",
       "4  0.400000  18-44 #BBMP #Bengaluru #CovidVaccine Availabil...   \n",
       "5  0.200000  18-44 #URBAN #Bengaluru #CovidVaccine Availabi...   \n",
       "6  0.200000  18-44 #RURAL #Bengaluru #CovidVaccine Availabi...   \n",
       "7  0.078788  NE delhi has at least 9 new slots available be...   \n",
       "8  0.078788  North delhi has at least 1368 new slots availa...   \n",
       "9  0.062500  RT @adarpoonawalla: An emotional moment for th...   \n",
       "\n",
       "                                    processed_tweets  sentiment  \\\n",
       "0  rt north delhi has at least 2790 new slots ava...          1   \n",
       "1  north delhi has at least 2790 new slots availa...          1   \n",
       "2  east delhi has at least 5461 new slots availab...          1   \n",
       "3  north delhi has at least 2145 new slots availa...          1   \n",
       "4  18 44 bbmp bengaluru covidvaccine availability...          1   \n",
       "5  18 44 urban bengaluru covidvaccine availabilit...          1   \n",
       "6  18 44 rural bengaluru covidvaccine availabilit...          1   \n",
       "7  ne delhi has at least 9 new slots available be...          1   \n",
       "8  north delhi has at least 1368 new slots availa...          1   \n",
       "9  rt an emotional moment for the team at as the ...          1   \n",
       "\n",
       "  tweet_sentiment  \n",
       "0        Positive  \n",
       "1        Positive  \n",
       "2        Positive  \n",
       "3        Positive  \n",
       "4        Positive  \n",
       "5        Positive  \n",
       "6        Positive  \n",
       "7        Positive  \n",
       "8        Positive  \n",
       "9        Positive  "
      ]
     },
     "execution_count": 10,
     "metadata": {},
     "output_type": "execute_result"
    }
   ],
   "source": [
    "train_data.head(10)"
   ]
  },
  {
   "cell_type": "code",
   "execution_count": 11,
   "metadata": {},
   "outputs": [
    {
     "data": {
      "image/png": "[encoded data removed]",
      "text/plain": [
       "<Figure size 432x288 with 1 Axes>"
      ]
     },
     "metadata": {
      "needs_background": "light"
     },
     "output_type": "display_data"
    }
   ],
   "source": [
    "ax=sns.countplot(x = train_data['sentiment'],\n",
    "              data = train_data,\n",
    "              order = train_data['sentiment'].value_counts().index)\n",
    "ax.set(xlabel='Polarity', ylabel='No. of tweets')\n",
    "fig = ax.get_figure()\n",
    "fig.savefig('static/images/polaritycurr.png') "
   ]
  },
  {
   "cell_type": "code",
   "execution_count": 12,
   "metadata": {},
   "outputs": [
    {
     "data": {
      "image/png": "[encoded data removed]",
      "text/plain": [
       "<Figure size 432x288 with 1 Axes>"
      ]
     },
     "metadata": {
      "needs_background": "light"
     },
     "output_type": "display_data"
    }
   ],
   "source": [
    "ax=sns.countplot(x = train_data['tweet_sentiment'],\n",
    "              data = train_data,\n",
    "              order = train_data['tweet_sentiment'].value_counts().index)\n",
    "ax.set(xlabel='Tweet Sentiment', ylabel='No. of tweets')\n",
    "fig = ax.get_figure() \n",
    "fig.savefig('static/images/sentimentcurr.png')"
   ]
  },
  {
   "cell_type": "code",
   "execution_count": null,
   "metadata": {},
   "outputs": [],
   "source": []
  }
 ],
 "metadata": {
  "kernelspec": {
   "display_name": "Python 3 (ipykernel)",
   "language": "python",
   "name": "python3"
  },
  "language_info": {
   "codemirror_mode": {
    "name": "ipython",
    "version": 3
   },
   "file_extension": ".py",
   "mimetype": "text/x-python",
   "name": "python",
   "nbconvert_exporter": "python",
   "pygments_lexer": "ipython3",
   "version": "3.9.7"
  }
 },
 "nbformat": 4,
 "nbformat_minor": 2
}
