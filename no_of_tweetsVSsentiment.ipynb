{
 "cells": [
  {
   "cell_type": "code",
   "execution_count": 1,
   "metadata": {},
   "outputs": [],
   "source": [
    "## import statements ##\n",
    "\n",
    "import pandas as pd\n",
    "import seaborn as sns\n",
    "import matplotlib.pyplot as plt\n",
    "%matplotlib inline\n",
    "import warnings\n",
    "warnings.filterwarnings(\"ignore\")"
   ]
  },
  {
   "cell_type": "code",
   "execution_count": 2,
   "metadata": {},
   "outputs": [],
   "source": [
    "train_data = pd.read_csv('train_tweet.csv')"
   ]
  },
  {
   "cell_type": "markdown",
   "metadata": {},
   "source": [
    "# Cleaning the data"
   ]
  },
  {
   "cell_type": "code",
   "execution_count": 3,
   "metadata": {},
   "outputs": [],
   "source": [
    "def drop_features(features,data):\n",
    "    data.drop(features,inplace=True,axis=1)"
   ]
  },
  {
   "cell_type": "code",
   "execution_count": 4,
   "metadata": {},
   "outputs": [],
   "source": [
    "import re\n",
    "def process_tweet(tweet):\n",
    "    tweet=str(tweet)\n",
    "    return \" \".join(re.sub(\"(@[A-Za-z0-9]+)|([^0-9A-Za-z \\t])\", \" \",tweet.lower()).split())"
   ]
  },
  {
   "cell_type": "code",
   "execution_count": 5,
   "metadata": {},
   "outputs": [],
   "source": [
    "def sentiment(label):\n",
    "    if label<0:\n",
    "        return -1\n",
    "    elif label==0:\n",
    "        return 0\n",
    "    else:\n",
    "        return 1"
   ]
  },
  {
   "cell_type": "code",
   "execution_count": 6,
   "metadata": {},
   "outputs": [],
   "source": [
    "def sentiment_word(sentiment):\n",
    "    if sentiment==-1:\n",
    "        return \"Negative\"\n",
    "    elif sentiment==1:\n",
    "        return \"Positive\"\n",
    "    else:\n",
    "        return \"Neutral\""
   ]
  },
  {
   "cell_type": "code",
   "execution_count": 7,
   "metadata": {},
   "outputs": [],
   "source": [
    "train_data['processed_tweets'] = train_data['tweet'].apply(process_tweet)"
   ]
  },
  {
   "cell_type": "code",
   "execution_count": 8,
   "metadata": {},
   "outputs": [],
   "source": [
    "train_data['sentiment'] = train_data['label'].apply(sentiment)"
   ]
  },
  {
   "cell_type": "code",
   "execution_count": 9,
   "metadata": {},
   "outputs": [],
   "source": [
    "train_data['tweet_sentiment'] = train_data['sentiment'].apply(sentiment_word)"
   ]
  },
  {
   "cell_type": "code",
   "execution_count": 10,
   "metadata": {},
   "outputs": [
    {
     "data": {
      "text/html": [
       "<div>\n",
       "<style scoped>\n",
       "    .dataframe tbody tr th:only-of-type {\n",
       "        vertical-align: middle;\n",
       "    }\n",
       "\n",
       "    .dataframe tbody tr th {\n",
       "        vertical-align: top;\n",
       "    }\n",
       "\n",
       "    .dataframe thead th {\n",
       "        text-align: right;\n",
       "    }\n",
       "</style>\n",
       "<table border=\"1\" class=\"dataframe\">\n",
       "  <thead>\n",
       "    <tr style=\"text-align: right;\">\n",
       "      <th></th>\n",
       "      <th>label</th>\n",
       "      <th>tweet</th>\n",
       "      <th>processed_tweets</th>\n",
       "      <th>sentiment</th>\n",
       "      <th>tweet_sentiment</th>\n",
       "    </tr>\n",
       "  </thead>\n",
       "  <tbody>\n",
       "    <tr>\n",
       "      <th>0</th>\n",
       "      <td>-0.300000</td>\n",
       "      <td>RT @backtolife_2022: EU agrees common purchase...</td>\n",
       "      <td>rt 2022 eu agrees common purchase of vaccine a...</td>\n",
       "      <td>-1</td>\n",
       "      <td>Negative</td>\n",
       "    </tr>\n",
       "    <tr>\n",
       "      <th>1</th>\n",
       "      <td>0.000000</td>\n",
       "      <td>COVID-19 Vaccinations for children between the...</td>\n",
       "      <td>covid 19 vaccinations for children between the...</td>\n",
       "      <td>0</td>\n",
       "      <td>Neutral</td>\n",
       "    </tr>\n",
       "    <tr>\n",
       "      <th>2</th>\n",
       "      <td>0.000000</td>\n",
       "      <td>RT @NBPSDHealthUnit: We're in Kearney today! C...</td>\n",
       "      <td>rt we re in kearney today come see us at the e...</td>\n",
       "      <td>0</td>\n",
       "      <td>Neutral</td>\n",
       "    </tr>\n",
       "    <tr>\n",
       "      <th>3</th>\n",
       "      <td>0.000000</td>\n",
       "      <td>RT @backtolife_2022: WEF 2022, Davos - Gabriel...</td>\n",
       "      <td>rt 2022 wef 2022 davos gabriela bucher executi...</td>\n",
       "      <td>0</td>\n",
       "      <td>Neutral</td>\n",
       "    </tr>\n",
       "    <tr>\n",
       "      <th>4</th>\n",
       "      <td>0.000000</td>\n",
       "      <td>RT @ukmfa1: Open an Inquiry into C19 Vaccine S...</td>\n",
       "      <td>rt open an inquiry into c19 vaccine safety the...</td>\n",
       "      <td>0</td>\n",
       "      <td>Neutral</td>\n",
       "    </tr>\n",
       "    <tr>\n",
       "      <th>5</th>\n",
       "      <td>-0.068519</td>\n",
       "      <td>@OwitzDave Next the WHO and Gates/Klaus duo wi...</td>\n",
       "      <td>next the who and gates klaus duo will want us ...</td>\n",
       "      <td>-1</td>\n",
       "      <td>Negative</td>\n",
       "    </tr>\n",
       "    <tr>\n",
       "      <th>6</th>\n",
       "      <td>0.000000</td>\n",
       "      <td>RT @Bongie_Haemz: Please share the myths and m...</td>\n",
       "      <td>rt haemz please share the myths and misconcept...</td>\n",
       "      <td>0</td>\n",
       "      <td>Neutral</td>\n",
       "    </tr>\n",
       "    <tr>\n",
       "      <th>7</th>\n",
       "      <td>0.000000</td>\n",
       "      <td>RT @CjColclough: 👀 Watch this 10 min speech by...</td>\n",
       "      <td>rt watch this 10 min speech by jeffrey sachs a...</td>\n",
       "      <td>0</td>\n",
       "      <td>Neutral</td>\n",
       "    </tr>\n",
       "    <tr>\n",
       "      <th>8</th>\n",
       "      <td>0.500000</td>\n",
       "      <td>RT @William81714480: Let this sink in: most of...</td>\n",
       "      <td>rt let this sink in most of the world has move...</td>\n",
       "      <td>1</td>\n",
       "      <td>Positive</td>\n",
       "    </tr>\n",
       "    <tr>\n",
       "      <th>9</th>\n",
       "      <td>0.500000</td>\n",
       "      <td>RT @Charles_Dust: Im sure you've been told/hea...</td>\n",
       "      <td>rt dust im sure you ve been told heard a lot o...</td>\n",
       "      <td>1</td>\n",
       "      <td>Positive</td>\n",
       "    </tr>\n",
       "  </tbody>\n",
       "</table>\n",
       "</div>"
      ],
      "text/plain": [
       "      label                                              tweet  \\\n",
       "0 -0.300000  RT @backtolife_2022: EU agrees common purchase...   \n",
       "1  0.000000  COVID-19 Vaccinations for children between the...   \n",
       "2  0.000000  RT @NBPSDHealthUnit: We're in Kearney today! C...   \n",
       "3  0.000000  RT @backtolife_2022: WEF 2022, Davos - Gabriel...   \n",
       "4  0.000000  RT @ukmfa1: Open an Inquiry into C19 Vaccine S...   \n",
       "5 -0.068519  @OwitzDave Next the WHO and Gates/Klaus duo wi...   \n",
       "6  0.000000  RT @Bongie_Haemz: Please share the myths and m...   \n",
       "7  0.000000  RT @CjColclough: 👀 Watch this 10 min speech by...   \n",
       "8  0.500000  RT @William81714480: Let this sink in: most of...   \n",
       "9  0.500000  RT @Charles_Dust: Im sure you've been told/hea...   \n",
       "\n",
       "                                    processed_tweets  sentiment  \\\n",
       "0  rt 2022 eu agrees common purchase of vaccine a...         -1   \n",
       "1  covid 19 vaccinations for children between the...          0   \n",
       "2  rt we re in kearney today come see us at the e...          0   \n",
       "3  rt 2022 wef 2022 davos gabriela bucher executi...          0   \n",
       "4  rt open an inquiry into c19 vaccine safety the...          0   \n",
       "5  next the who and gates klaus duo will want us ...         -1   \n",
       "6  rt haemz please share the myths and misconcept...          0   \n",
       "7  rt watch this 10 min speech by jeffrey sachs a...          0   \n",
       "8  rt let this sink in most of the world has move...          1   \n",
       "9  rt dust im sure you ve been told heard a lot o...          1   \n",
       "\n",
       "  tweet_sentiment  \n",
       "0        Negative  \n",
       "1         Neutral  \n",
       "2         Neutral  \n",
       "3         Neutral  \n",
       "4         Neutral  \n",
       "5        Negative  \n",
       "6         Neutral  \n",
       "7         Neutral  \n",
       "8        Positive  \n",
       "9        Positive  "
      ]
     },
     "execution_count": 10,
     "metadata": {},
     "output_type": "execute_result"
    }
   ],
   "source": [
    "train_data.head(10)"
   ]
  },
  {
   "cell_type": "code",
   "execution_count": 11,
   "metadata": {},
   "outputs": [],
   "source": [
    "drop_features(['tweet'],train_data)"
   ]
  },
  {
   "cell_type": "code",
   "execution_count": 12,
   "metadata": {},
   "outputs": [
    {
     "data": {
      "image/png": "[encoded data removed]",
      "text/plain": [
       "<Figure size 432x288 with 1 Axes>"
      ]
     },
     "metadata": {
      "needs_background": "light"
     },
     "output_type": "display_data"
    }
   ],
   "source": [
    "ax=sns.countplot(train_data['sentiment'])\n",
    "ax.set(xlabel='Polarity', ylabel='No. of tweets')\n",
    "fig = ax.get_figure()\n",
    "fig.savefig('static/images/polarity.png') "
   ]
  },
  {
   "cell_type": "code",
   "execution_count": 13,
   "metadata": {},
   "outputs": [
    {
     "data": {
      "image/png": "[encoded data removed]",
      "text/plain": [
       "<Figure size 432x288 with 1 Axes>"
      ]
     },
     "metadata": {
      "needs_background": "light"
     },
     "output_type": "display_data"
    }
   ],
   "source": [
    "ax=sns.countplot(train_data['tweet_sentiment'])\n",
    "ax.set(xlabel='Tweet Sentiment', ylabel='No. of tweets')\n",
    "fig = ax.get_figure() \n",
    "fig.savefig('static/images/sentiment.png')"
   ]
  }
 ],
 "metadata": {
  "kernelspec": {
   "display_name": "Python 3 (ipykernel)",
   "language": "python",
   "name": "python3"
  },
  "language_info": {
   "codemirror_mode": {
    "name": "ipython",
    "version": 3
   },
   "file_extension": ".py",
   "mimetype": "text/x-python",
   "name": "python",
   "nbconvert_exporter": "python",
   "pygments_lexer": "ipython3",
   "version": "3.9.7"
  }
 },
 "nbformat": 4,
 "nbformat_minor": 2
}
